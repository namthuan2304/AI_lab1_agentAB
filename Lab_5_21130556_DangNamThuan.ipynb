{
  "nbformat": 4,
  "nbformat_minor": 0,
  "metadata": {
    "colab": {
      "provenance": [],
      "include_colab_link": true
    },
    "kernelspec": {
      "name": "python3",
      "display_name": "Python 3"
    },
    "language_info": {
      "name": "python"
    }
  },
  "cells": [
    {
      "cell_type": "markdown",
      "metadata": {
        "id": "view-in-github",
        "colab_type": "text"
      },
      "source": [
        "<a href=\"https://colab.research.google.com/github/namthuan2304/AI_lab1_agentAB/blob/main/Lab_5_21130556_DangNamThuan.ipynb\" target=\"_parent\"><img src=\"https://colab.research.google.com/assets/colab-badge.svg\" alt=\"Open In Colab\"/></a>"
      ]
    },
    {
      "cell_type": "markdown",
      "source": [
        "# This lab is to deal with **SVM** to classification tasks and compare its performance with other competitive algorithms. In general, **SVM** is one of the most popular and widely used supervised machine learning algorithms.\n",
        "\n",
        "*   **Deadline: 23:59, 08/04/2024**\n",
        "\n"
      ],
      "metadata": {
        "id": "LMzehe0sy5wr"
      }
    },
    {
      "cell_type": "code",
      "source": [
        "from google.colab import drive\n",
        "drive.mount('/content/gdrive')\n",
        "%cd '/content/gdrive/MyDrive/MyDrive'"
      ],
      "metadata": {
        "id": "L5JsNZAUsdI4",
        "colab": {
          "base_uri": "https://localhost:8080/",
          "height": 0
        },
        "outputId": "520e238a-9b53-4f30-a6e5-8d9b841dd11f"
      },
      "execution_count": 1,
      "outputs": [
        {
          "output_type": "stream",
          "name": "stdout",
          "text": [
            "Mounted at /content/gdrive\n",
            "/content/gdrive/MyDrive/MyDrive\n"
          ]
        }
      ]
    },
    {
      "cell_type": "markdown",
      "source": [
        "# Import libraries"
      ],
      "metadata": {
        "id": "H4nJmxp9zGX4"
      }
    },
    {
      "cell_type": "code",
      "execution_count": 57,
      "metadata": {
        "id": "DoVWQ8AEyc-C",
        "colab": {
          "base_uri": "https://localhost:8080/",
          "height": 383
        },
        "outputId": "d0bcea56-ec40-450c-cd60-5020bce24496"
      },
      "outputs": [
        {
          "output_type": "error",
          "ename": "ImportError",
          "evalue": "cannot import name 'to_csv' from 'pandas' (/usr/local/lib/python3.10/dist-packages/pandas/__init__.py)",
          "traceback": [
            "\u001b[0;31m---------------------------------------------------------------------------\u001b[0m",
            "\u001b[0;31mImportError\u001b[0m                               Traceback (most recent call last)",
            "\u001b[0;32m<ipython-input-57-b02f41d6ae2d>\u001b[0m in \u001b[0;36m<cell line: 17>\u001b[0;34m()\u001b[0m\n\u001b[1;32m     15\u001b[0m \u001b[0;32mfrom\u001b[0m \u001b[0mprettytable\u001b[0m \u001b[0;32mimport\u001b[0m \u001b[0mPrettyTable\u001b[0m\u001b[0;34m\u001b[0m\u001b[0;34m\u001b[0m\u001b[0m\n\u001b[1;32m     16\u001b[0m \u001b[0;32mfrom\u001b[0m \u001b[0msklearn\u001b[0m\u001b[0;34m.\u001b[0m\u001b[0mmetrics\u001b[0m \u001b[0;32mimport\u001b[0m \u001b[0maccuracy_score\u001b[0m\u001b[0;34m,\u001b[0m \u001b[0mprecision_score\u001b[0m\u001b[0;34m,\u001b[0m \u001b[0mrecall_score\u001b[0m\u001b[0;34m,\u001b[0m \u001b[0mf1_score\u001b[0m\u001b[0;34m,\u001b[0m \u001b[0mConfusionMatrixDisplay\u001b[0m\u001b[0;34m\u001b[0m\u001b[0;34m\u001b[0m\u001b[0m\n\u001b[0;32m---> 17\u001b[0;31m \u001b[0;32mfrom\u001b[0m \u001b[0mpandas\u001b[0m \u001b[0;32mimport\u001b[0m \u001b[0mread_csv\u001b[0m\u001b[0;34m,\u001b[0m \u001b[0mto_csv\u001b[0m\u001b[0;34m\u001b[0m\u001b[0;34m\u001b[0m\u001b[0m\n\u001b[0m\u001b[1;32m     18\u001b[0m \u001b[0;32mfrom\u001b[0m \u001b[0mmatplotlib\u001b[0m\u001b[0;34m.\u001b[0m\u001b[0mpyplot\u001b[0m \u001b[0;32mimport\u001b[0m \u001b[0mfigure\u001b[0m\u001b[0;34m,\u001b[0m \u001b[0mplot\u001b[0m\u001b[0;34m,\u001b[0m \u001b[0mxlabel\u001b[0m\u001b[0;34m,\u001b[0m \u001b[0mylabel\u001b[0m\u001b[0;34m,\u001b[0m \u001b[0mtitle\u001b[0m\u001b[0;34m,\u001b[0m \u001b[0mlegend\u001b[0m\u001b[0;34m,\u001b[0m \u001b[0mgrid\u001b[0m\u001b[0;34m,\u001b[0m \u001b[0mshow\u001b[0m\u001b[0;34m\u001b[0m\u001b[0;34m\u001b[0m\u001b[0m\n\u001b[1;32m     19\u001b[0m \u001b[0;32mfrom\u001b[0m \u001b[0msklearn\u001b[0m\u001b[0;34m.\u001b[0m\u001b[0mimpute\u001b[0m \u001b[0;32mimport\u001b[0m \u001b[0mSimpleImputer\u001b[0m\u001b[0;34m\u001b[0m\u001b[0;34m\u001b[0m\u001b[0m\n",
            "\u001b[0;31mImportError\u001b[0m: cannot import name 'to_csv' from 'pandas' (/usr/local/lib/python3.10/dist-packages/pandas/__init__.py)",
            "",
            "\u001b[0;31m---------------------------------------------------------------------------\u001b[0;32m\nNOTE: If your import is failing due to a missing package, you can\nmanually install dependencies using either !pip or !apt.\n\nTo view examples of installing some common dependencies, click the\n\"Open Examples\" button below.\n\u001b[0;31m---------------------------------------------------------------------------\u001b[0m\n"
          ],
          "errorDetails": {
            "actions": [
              {
                "action": "open_url",
                "actionText": "Open Examples",
                "url": "/notebooks/snippets/importing_libraries.ipynb"
              }
            ]
          }
        }
      ],
      "source": [
        "import numpy as np\n",
        "import pandas as pd\n",
        "import matplotlib.pyplot as plt\n",
        "import seaborn as sns\n",
        "import seaborn as sns\n",
        "import matplotlib.ticker as ticker\n",
        "from sklearn import metrics\n",
        "from sklearn.model_selection import train_test_split\n",
        "import matplotlib.pylab as plt\n",
        "from sklearn import svm\n",
        "from sklearn.neighbors import KNeighborsClassifier\n",
        "from sklearn.linear_model import LinearRegression,LogisticRegression\n",
        "from sklearn.tree import DecisionTreeClassifier\n",
        "from sklearn.metrics import classification_report, confusion_matrix\n",
        "from prettytable import PrettyTable\n",
        "from sklearn.metrics import accuracy_score, precision_score, recall_score, f1_score, ConfusionMatrixDisplay\n",
        "from pandas import read_csv\n",
        "from matplotlib.pyplot import figure, plot, xlabel, ylabel, title, legend, grid, show\n",
        "from sklearn.impute import SimpleImputer\n",
        "from sklearn import preprocessing\n",
        "from sklearn.preprocessing import StandardScaler\n",
        "from sklearn.model_selection import train_test_split\n",
        "from sklearn.linear_model import LinearRegression,LogisticRegression\n",
        "from sklearn.neighbors import KNeighborsClassifier\n",
        "from sklearn.metrics import accuracy_score, precision_score, recall_score, f1_score, ConfusionMatrixDisplay\n",
        "from sklearn.datasets import load_iris, load_breast_cancer\n",
        "from sklearn.metrics import confusion_matrix\n",
        "from sklearn.metrics import accuracy_score\n",
        "from prettytable import PrettyTable\n",
        "from sklearn.tree import DecisionTreeClassifier, plot_tree\n",
        "\n",
        "%pylab inline\n",
        "#%run Utils.ipynb\n",
        "# Warnings configuration\n",
        "# ==============================================================================\n",
        "import warnings\n",
        "# warnings.filterwarnings('ignore')\n"
      ]
    },
    {
      "cell_type": "markdown",
      "source": [
        "#Task 1.\n",
        "For **breast cancer** dataset (https://tinyurl.com/3vme8hr3) which could be loaded from datasets in sklearn as follows:\n",
        "\n",
        "```\n",
        "#Import scikit-learn dataset library\n",
        "from sklearn import datasets\n",
        "\n",
        "#Load dataset\n",
        "cancer = datasets.load_breast_cancer()\n",
        "```\n",
        "\n",
        "*   1.1.\tApply **SVM algorithm** to above dataset using linear kernel.\n",
        "*   1.2.\tCompare the obtained results with other competitive algorithms (**Logistic Regression, Decision Tree, kNN**) based on metrics: accuracy, precision, recall, f1 measures.\n",
        "\n"
      ],
      "metadata": {
        "id": "kNv07ARGzOUm"
      }
    },
    {
      "cell_type": "code",
      "source": [
        "cancer = load_breast_cancer(as_frame=True)\n",
        "rs = PrettyTable([\"Model\", \"Accuracy\", \"Precision\", \"Recall\", \"F1 Score\"])\n",
        "Xtrain, Xtest, Ytrain, Ytest = train_test_split(cancer['data'], cancer['target'], test_size=0.2, random_state=1)\n",
        "# SVM Algorithm\n",
        "clf = svm.SVC(kernel='linear')\n",
        "clf.fit(Xtrain, Ytrain)\n",
        "y_pred = clf.predict(Xtest)\n",
        "svm_accuracy = accuracy_score(Ytest, y_pred)\n",
        "svm_precision = precision_score(Ytest, y_pred, average='weighted')\n",
        "svm_recall = recall_score(Ytest, y_pred, average='weighted')\n",
        "svm_f1 = f1_score(Ytest, y_pred, average='weighted')\n",
        "rs.add_row([\"SVM Algorithm\", svm_accuracy, svm_precision, svm_recall, svm_f1])\n",
        "\n",
        "# Logistic Regression\n",
        "Xtrain, Xtest, Ytrain, Ytest = train_test_split(cancer['data'], cancer['target'], test_size=0.2, random_state=1)\n",
        "logistic = LogisticRegression(random_state=1)\n",
        "logistic.fit(Xtrain, Ytrain)\n",
        "Ypred = logistic.predict(Xtest)\n",
        "logisticAccuracy = accuracy_score(Ytest, Ypred)\n",
        "logisticPrecision = precision_score(Ytest, Ypred, average='weighted')\n",
        "logisticRecall = recall_score(Ytest, Ypred, average='weighted')\n",
        "logisticF1 = f1_score(Ytest, Ypred, average='weighted')\n",
        "rs.add_row([\"Logistic Regression\", logisticAccuracy, logisticPrecision, logisticRecall, logisticF1])\n",
        "# print(\"Confusion matrix to evaluate the accuracy of a classification:\\n\", ConfusionMatrixDisplay.from_predictions(Ytest, Ypred))\n",
        "\n",
        "# kNN Algorithm\n",
        "kNN_Accuracy = []\n",
        "kNN_Precision = []\n",
        "kNN_Recall = []\n",
        "kNN_F1 = []\n",
        "k_values = range(3, 30, 2)\n",
        "\n",
        "for k in k_values:\n",
        "    kNN = KNeighborsClassifier(n_neighbors=k)\n",
        "    kNN.fit(Xtrain, Ytrain)\n",
        "    YPred = kNN.predict(Xtest)\n",
        "\n",
        "    kNN_Accuracy.append(accuracy_score(Ytest, YPred))\n",
        "    kNN_Precision.append(precision_score(Ytest, YPred, average='weighted'))\n",
        "    kNN_Recall.append(recall_score(Ytest, YPred, average='weighted'))\n",
        "    kNN_F1.append(f1_score(Ytest, YPred, average='weighted'))\n",
        "\n",
        "bestK = k_values[kNN_F1.index(max(kNN_F1))]\n",
        "bestK_Accuracy = kNN_Accuracy[kNN_F1.index(max(kNN_F1))]\n",
        "bestK_Precision = kNN_Precision[kNN_F1.index(max(kNN_F1))]\n",
        "bestK_Recall = kNN_Recall[kNN_F1.index(max(kNN_F1))]\n",
        "bestK_F1 = max(kNN_F1)\n",
        "rs.add_row([\"kNN (Best K={})\".format(bestK), bestK_Accuracy, bestK_Precision, bestK_Recall, bestK_F1])\n",
        "\n",
        "# Decision Tree\n",
        "clf_model = DecisionTreeClassifier(criterion=\"gini\", random_state=42, max_depth=3, min_samples_leaf=5)\n",
        "clf_model.fit(Xtrain, Ytrain)\n",
        "plot_tree(clf_model)\n",
        "y_predict = clf_model.predict(Xtest)\n",
        "decision_Accuracy = accuracy_score(Ytest, y_predict)\n",
        "decision_Precision = precision_score(Ytest, y_predict, average='weighted')\n",
        "decision_Recall = recall_score(Ytest, y_predict, average='weighted')\n",
        "decision_F1 = f1_score(Ytest, y_predict, average='weighted')\n",
        "rs.add_row([\"Decision Tree\", decision_Accuracy, decision_Precision, decision_Recall, decision_F1])\n",
        "\n",
        "# Logistic Regression\n",
        "print(\"Confusion matrix to evaluate the accuracy of a classification:\\n\", ConfusionMatrixDisplay.from_predictions(Ytest, Ypred))\n",
        "\n",
        "# Compare the performance of selected classification algorithms (Decision Tree, kNN, and Logistic Regression) to spam detection.\n",
        "print(\"Performance Comparison of kNN (Best K) & Logistic Regression & Decision Tree:\")\n",
        "print(rs)"
      ],
      "metadata": {
        "id": "sOsg77IBzEyo",
        "colab": {
          "base_uri": "https://localhost:8080/",
          "height": 1174
        },
        "outputId": "7b319145-c01d-442f-e367-ab8c26308b09"
      },
      "execution_count": 16,
      "outputs": [
        {
          "output_type": "stream",
          "name": "stderr",
          "text": [
            "/usr/local/lib/python3.10/dist-packages/sklearn/linear_model/_logistic.py:458: ConvergenceWarning: lbfgs failed to converge (status=1):\n",
            "STOP: TOTAL NO. of ITERATIONS REACHED LIMIT.\n",
            "\n",
            "Increase the number of iterations (max_iter) or scale the data as shown in:\n",
            "    https://scikit-learn.org/stable/modules/preprocessing.html\n",
            "Please also refer to the documentation for alternative solver options:\n",
            "    https://scikit-learn.org/stable/modules/linear_model.html#logistic-regression\n",
            "  n_iter_i = _check_optimize_result(\n"
          ]
        },
        {
          "output_type": "stream",
          "name": "stdout",
          "text": [
            "Confusion matrix to evaluate the accuracy of a classification:\n",
            " <sklearn.metrics._plot.confusion_matrix.ConfusionMatrixDisplay object at 0x7c7dfe6f1870>\n",
            "Performance Comparison of kNN (Best K) & Logistic Regression & Decision Tree:\n",
            "+---------------------+--------------------+--------------------+--------------------+--------------------+\n",
            "|        Model        |      Accuracy      |     Precision      |       Recall       |      F1 Score      |\n",
            "+---------------------+--------------------+--------------------+--------------------+--------------------+\n",
            "|    SVM Algorithm    | 0.956140350877193  | 0.9589883800410116 | 0.956140350877193  | 0.9554882874504246 |\n",
            "| Logistic Regression | 0.9473684210526315 | 0.9474395448079658 | 0.9473684210526315 | 0.9470870627956459 |\n",
            "|    kNN (Best K=5)   | 0.9385964912280702 | 0.9390013495276655 | 0.9385964912280702 | 0.9380859556298152 |\n",
            "|    Decision Tree    | 0.9210526315789473 | 0.9207976506585542 | 0.9210526315789473 | 0.9208492773270942 |\n",
            "+---------------------+--------------------+--------------------+--------------------+--------------------+\n"
          ]
        },
        {
          "output_type": "display_data",
          "data": {
            "text/plain": [
              "<Figure size 640x480 with 1 Axes>"
            ],
            "image/png": "[encoded data removed]"
          },
          "metadata": {}
        },
        {
          "output_type": "display_data",
          "data": {
            "text/plain": [
              "<Figure size 640x480 with 2 Axes>"
            ],
            "image/png": "[encoded data removed]"
          },
          "metadata": {}
        }
      ]
    },
    {
      "cell_type": "markdown",
      "source": [
        "#Task 2.\n",
        "\n",
        "*   2.1.\tPerform SVM algorithm to **Iris dataset** using **linear kernel**.\n",
        "*   2.2.\tCompare the obtained results in task 2.1 with **SVM** using other kernels (**Polynomial Kernel, Sigmoid Kernel, Radial Basis Function Kernel**). Some metrics could be used: **accuracy, precision, recall, f1** measures\n"
      ],
      "metadata": {
        "id": "S43IoUT-0OQq"
      }
    },
    {
      "cell_type": "code",
      "source": [
        "iris = load_iris(as_frame=True)\n",
        "rs = PrettyTable([\"Kernel\", \"Accuracy\", \"Precision\", \"Recall\", \"F1 Score\"])\n",
        "X_train, X_test, y_train, y_test = train_test_split(iris['data'], iris['target'], test_size=0.2, random_state=1)\n",
        "# kernel='linear'\n",
        "model = svm.SVC(kernel='linear')\n",
        "model.fit(X_train, y_train)\n",
        "y_pred = model.predict(X_test)\n",
        "svm_accuracy = accuracy_score(y_test, y_pred)\n",
        "svm_precision = precision_score(y_test, y_pred, average='weighted')\n",
        "svm_recall = recall_score(y_test, y_pred, average='weighted')\n",
        "svm_f1 = f1_score(y_test, y_pred, average='weighted')\n",
        "rs.add_row([\"Linear\", svm_accuracy, svm_precision, svm_recall, svm_f1])\n",
        "# kernel='Polynomial'\n",
        "model = svm.SVC(kernel='poly')\n",
        "model.fit(X_train, y_train)\n",
        "y_pred = model.predict(X_test)\n",
        "svm_accuracy = accuracy_score(y_test, y_pred)\n",
        "svm_precision = precision_score(y_test, y_pred, average='weighted')\n",
        "svm_recall = recall_score(y_test, y_pred, average='weighted')\n",
        "svm_f1 = f1_score(y_test, y_pred, average='weighted')\n",
        "rs.add_row([\"Polynomial\", svm_accuracy, svm_precision, svm_recall, svm_f1])\n",
        "# kernel='Sigmoid '\n",
        "model = svm.SVC(kernel='sigmoid')\n",
        "model.fit(X_train, y_train)\n",
        "y_pred = model.predict(X_test)\n",
        "svm_accuracy = accuracy_score(y_test, y_pred)\n",
        "svm_precision = precision_score(y_test, y_pred, average='weighted')\n",
        "svm_recall = recall_score(y_test, y_pred, average='weighted')\n",
        "svm_f1 = f1_score(y_test, y_pred, average='weighted')\n",
        "rs.add_row([\"Sigmoid\", svm_accuracy, svm_precision, svm_recall, svm_f1])\n",
        "# kernel='Radial Basis Function'\n",
        "model = svm.SVC(kernel='rbf')\n",
        "model.fit(X_train, y_train)\n",
        "y_pred = model.predict(X_test)\n",
        "svm_accuracy = accuracy_score(y_test, y_pred)\n",
        "svm_precision = precision_score(y_test, y_pred, average='weighted')\n",
        "svm_recall = recall_score(y_test, y_pred, average='weighted')\n",
        "svm_f1 = f1_score(y_test, y_pred, average='weighted')\n",
        "rs.add_row([\"Radial Basis Function\", svm_accuracy, svm_precision, svm_recall, svm_f1])\n",
        "\n",
        "print(\"Performance Comparison of SVM\")\n",
        "print(rs)"
      ],
      "metadata": {
        "id": "_xhPpF5b033h",
        "colab": {
          "base_uri": "https://localhost:8080/",
          "height": 0
        },
        "outputId": "0b18699a-f0f8-4692-f11e-381e6436dff1"
      },
      "execution_count": 19,
      "outputs": [
        {
          "output_type": "stream",
          "name": "stdout",
          "text": [
            "Performance Comparison of SVM\n",
            "+-----------------------+--------------------+---------------------+--------------------+---------------------+\n",
            "|         Kernel        |      Accuracy      |      Precision      |       Recall       |       F1 Score      |\n",
            "+-----------------------+--------------------+---------------------+--------------------+---------------------+\n",
            "|         Linear        |        1.0         |         1.0         |        1.0         |         1.0         |\n",
            "|       Polynomial      | 0.9666666666666667 |  0.9714285714285714 | 0.9666666666666667 |  0.9672820512820512 |\n",
            "|        Sigmoid        |        0.2         | 0.04000000000000001 |        0.2         | 0.06666666666666667 |\n",
            "| Radial Basis Function | 0.9666666666666667 |  0.9714285714285714 | 0.9666666666666667 |  0.9672820512820512 |\n",
            "+-----------------------+--------------------+---------------------+--------------------+---------------------+\n"
          ]
        },
        {
          "output_type": "stream",
          "name": "stderr",
          "text": [
            "/usr/local/lib/python3.10/dist-packages/sklearn/metrics/_classification.py:1344: UndefinedMetricWarning: Precision is ill-defined and being set to 0.0 in labels with no predicted samples. Use `zero_division` parameter to control this behavior.\n",
            "  _warn_prf(average, modifier, msg_start, len(result))\n"
          ]
        }
      ]
    },
    {
      "cell_type": "markdown",
      "source": [
        "#Task 3.\n",
        "Compare the performance of selected classification algorithms (**Decision Tree, kNN, Logistic Regression**) and **SVM** (using different kernels) with **FASHION** dataset based on **accuracy, precision, recall, f1** measures.\n"
      ],
      "metadata": {
        "id": "b52OPWPD2afi"
      }
    },
    {
      "cell_type": "code",
      "source": [
        "data_train = read_csv(\"fashion_train.csv\")\n",
        "data_test = read_csv(\"fashion_test.csv\")\n",
        "rs = PrettyTable([\"Model\", \"Accuracy\", \"Precision\", \"Recall\", \"F1 Score\"])\n",
        "classifier_3 = LogisticRegression(random_state=1)\n",
        "classifier_3.fit(data_train.drop(columns=['y']), data_train['y'])\n",
        "y_pred_3 = classifier_3.predict(data_test.drop(columns=['y']))\n",
        "logistic_accuracy_3 = accuracy_score(data_test[['y']], y_pred_3)\n",
        "logistic_precision_3 = precision_score(data_test[['y']], y_pred_3, average='weighted')\n",
        "logistic_recall_3 = recall_score(data_test[['y']], y_pred_3, average='weighted')\n",
        "logistic_f1_3 = f1_score(data_test[['y']], y_pred_3, average='weighted')\n",
        "rs.add_row([\"Logistic Regression\", logistic_accuracy_3, logistic_precision_3, logistic_recall_3, logistic_f1_3])\n",
        "\n",
        "# Decision Tree\n",
        "clf_model = DecisionTreeClassifier(criterion=\"gini\", random_state=42, max_depth=3, min_samples_leaf=5)\n",
        "clf_model.fit(data_train.drop(columns=['y']), data_train['y'])\n",
        "#plot_tree(clf_model)\n",
        "y_predict = clf_model.predict(data_test.drop(columns=['y']))\n",
        "decision_Accuracy = accuracy_score(data_test[['y']], y_predict)\n",
        "decision_Precision = precision_score(data_test[['y']], y_predict, average='weighted')\n",
        "decision_Recall = recall_score(data_test[['y']], y_predict, average='weighted')\n",
        "decision_F1 = f1_score(data_test[['y']], y_predict, average='weighted')\n",
        "rs.add_row([\"Decision Tree\", decision_Accuracy, decision_Precision, decision_Recall, decision_F1])\n",
        "\n",
        "# kNN Algorithm\n",
        "kNN_Accuracy = []\n",
        "kNN_Precision = []\n",
        "kNN_Recall = []\n",
        "kNN_F1 = []\n",
        "k_values = range(3, 30, 2)\n",
        "\n",
        "for k in k_values:\n",
        "    kNN = KNeighborsClassifier(n_neighbors=k)\n",
        "    kNN.fit(data_train.drop(columns=['y']), data_train['y'])\n",
        "    YPred = kNN.predict(data_test.drop(columns=['y']))\n",
        "\n",
        "    kNN_Accuracy.append(accuracy_score(data_test[['y']], YPred))\n",
        "    kNN_Precision.append(precision_score(data_test[['y']], YPred, average='weighted'))\n",
        "    kNN_Recall.append(recall_score(data_test[['y']], YPred, average='weighted'))\n",
        "    kNN_F1.append(f1_score(data_test[['y']], YPred, average='weighted'))\n",
        "\n",
        "bestK = k_values[kNN_F1.index(max(kNN_F1))]\n",
        "bestK_Accuracy = kNN_Accuracy[kNN_F1.index(max(kNN_F1))]\n",
        "bestK_Precision = kNN_Precision[kNN_F1.index(max(kNN_F1))]\n",
        "bestK_Recall = kNN_Recall[kNN_F1.index(max(kNN_F1))]\n",
        "bestK_F1 = max(kNN_F1)\n",
        "rs.add_row([\"kNN (Best K={})\".format(bestK), bestK_Accuracy, bestK_Precision, bestK_Recall, bestK_F1])\n",
        "\n",
        "# SVM\n",
        "clf = svm.SVC(kernel='linear')\n",
        "clf.fit(data_train.drop(columns=['y']), data_train['y'])\n",
        "y_pred = clf.predict(data_test.drop(columns=['y']))\n",
        "svm_accuracy = accuracy_score(data_test[['y']], y_pred)\n",
        "svm_precision = precision_score(data_test[['y']], y_pred, average='weighted')\n",
        "svm_recall = recall_score(data_test[['y']], y_pred, average='weighted')\n",
        "svm_f1 = f1_score(data_test[['y']], y_pred, average='weighted')\n",
        "rs.add_row([\"SVM\", svm_accuracy, svm_precision, svm_recall, svm_f1])\n",
        "\n",
        "print(\"Performance Comparison of SVM\")\n",
        "print(rs)"
      ],
      "metadata": {
        "colab": {
          "base_uri": "https://localhost:8080/",
          "height": 0
        },
        "id": "4JrRJNuRx1jU",
        "outputId": "e51eae64-bda3-46de-8975-00919b725cf8"
      },
      "execution_count": 30,
      "outputs": [
        {
          "output_type": "stream",
          "name": "stderr",
          "text": [
            "/usr/local/lib/python3.10/dist-packages/sklearn/linear_model/_logistic.py:458: ConvergenceWarning: lbfgs failed to converge (status=1):\n",
            "STOP: TOTAL NO. of ITERATIONS REACHED LIMIT.\n",
            "\n",
            "Increase the number of iterations (max_iter) or scale the data as shown in:\n",
            "    https://scikit-learn.org/stable/modules/preprocessing.html\n",
            "Please also refer to the documentation for alternative solver options:\n",
            "    https://scikit-learn.org/stable/modules/linear_model.html#logistic-regression\n",
            "  n_iter_i = _check_optimize_result(\n",
            "/usr/local/lib/python3.10/dist-packages/sklearn/metrics/_classification.py:1344: UndefinedMetricWarning: Precision is ill-defined and being set to 0.0 in labels with no predicted samples. Use `zero_division` parameter to control this behavior.\n",
            "  _warn_prf(average, modifier, msg_start, len(result))\n"
          ]
        },
        {
          "output_type": "stream",
          "name": "stdout",
          "text": [
            "Performance Comparison of SVM\n",
            "+---------------------+----------+---------------------+--------+--------------------+\n",
            "|        Model        | Accuracy |      Precision      | Recall |      F1 Score      |\n",
            "+---------------------+----------+---------------------+--------+--------------------+\n",
            "| Logistic Regression |   0.79   |  0.7947465025148702 |  0.79  | 0.7905529748954693 |\n",
            "|    Decision Tree    |  0.464   | 0.38470709279433607 | 0.464  | 0.3748159979149567 |\n",
            "|    kNN (Best K=5)   |  0.761   |  0.7849144007407373 | 0.761  | 0.7607265009517986 |\n",
            "|         SVM         |  0.809   |  0.8172738994980449 | 0.809  | 0.8089067574598489 |\n",
            "+---------------------+----------+---------------------+--------+--------------------+\n"
          ]
        }
      ]
    },
    {
      "cell_type": "markdown",
      "source": [
        "#Task 4.\n",
        "For a given mobile price classification dataset with the following information:\n",
        "\n",
        "*   **Attributes**: 'battery_power', 'blue', 'clock_speed', 'dual_sim', 'fc', 'four_g', 'int_memory', 'm_dep', 'mobile_wt', 'n_cores', 'pc', 'px_height',\n",
        "       'px_width', 'ram', 'sc_h', 'sc_w', 'talk_time', 'three_g',     'touch_screen', 'wifi'\n",
        "*   **class label**: ***price_range*** (0,1,2,3)\n",
        "\n"
      ],
      "metadata": {
        "id": "Z5pp7_h-aP2u"
      }
    },
    {
      "cell_type": "markdown",
      "source": [
        "#Task 4.1.\n",
        "Compare the performance of selected classification algorithms (**Decision Tree, kNN, Logistic Regression**) and **SVM** (using different kernels) with **mobile price classification** based on **accuracy, precision, recall, f1** measures."
      ],
      "metadata": {
        "id": "I348UU6nHjGl"
      }
    },
    {
      "cell_type": "code",
      "source": [
        "data_train = read_csv(\"mobile_train.csv\")\n",
        "rs = PrettyTable([\"Model\", \"Accuracy\", \"Precision\", \"Recall\", \"F1 Score\"])\n",
        "Xtrain, Xtest, Ytrain, Ytest = train_test_split(data_train.drop(columns=['price_range']), data_train['price_range'], test_size=0.2, random_state=1)\n",
        "\n",
        "# SVM\n",
        "clf = svm.SVC(kernel='rbf')\n",
        "clf.fit(X_train, Ytrain)\n",
        "y_pred = clf.predict(Xtest)\n",
        "svm_accuracy = accuracy_score(Ytest, y_pred)\n",
        "svm_precision = precision_score(Ytest, y_pred, average='weighted')\n",
        "svm_recall = recall_score(Ytest, y_pred, average='weighted')\n",
        "svm_f1 = f1_score(Ytest, y_pred, average='weighted')\n",
        "rs.add_row([\"SVM\", svm_accuracy, svm_precision, svm_recall, svm_f1])\n",
        "\n",
        "# Logistic Regression\n",
        "logistic = LogisticRegression(random_state=1)\n",
        "logistic.fit(X_train, Ytrain)\n",
        "Ypred = logistic.predict(Xtest)\n",
        "logisticAccuracy = accuracy_score(Ytest, Ypred)\n",
        "logisticPrecision = precision_score(Ytest, Ypred, average='weighted')\n",
        "logisticRecall = recall_score(Ytest, Ypred, average='weighted')\n",
        "logisticF1 = f1_score(Ytest, Ypred, average='weighted')\n",
        "rs.add_row([\"Logistic Regression\", logisticAccuracy, logisticPrecision, logisticRecall, logisticF1])\n",
        "\n",
        "# kNN Algorithm\n",
        "kNN_Accuracy = []\n",
        "kNN_Precision = []\n",
        "kNN_Recall = []\n",
        "kNN_F1 = []\n",
        "k_values = range(3, 30, 2)\n",
        "\n",
        "for k in k_values:\n",
        "    kNN = KNeighborsClassifier(n_neighbors=k)\n",
        "    kNN.fit(Xtrain, Ytrain)\n",
        "    YPred = kNN.predict(Xtest)\n",
        "\n",
        "    kNN_Accuracy.append(accuracy_score(Ytest, YPred))\n",
        "    kNN_Precision.append(precision_score(Ytest, YPred, average='weighted'))\n",
        "    kNN_Recall.append(recall_score(Ytest, YPred, average='weighted'))\n",
        "    kNN_F1.append(f1_score(Ytest, YPred, average='weighted'))\n",
        "\n",
        "bestK = k_values[kNN_F1.index(max(kNN_F1))]\n",
        "bestK_Accuracy = kNN_Accuracy[kNN_F1.index(max(kNN_F1))]\n",
        "bestK_Precision = kNN_Precision[kNN_F1.index(max(kNN_F1))]\n",
        "bestK_Recall = kNN_Recall[kNN_F1.index(max(kNN_F1))]\n",
        "bestK_F1 = max(kNN_F1)\n",
        "rs.add_row([\"kNN (Best K={})\".format(bestK), bestK_Accuracy, bestK_Precision, bestK_Recall, bestK_F1])\n",
        "\n",
        "# Decision Tree\n",
        "clf_model = DecisionTreeClassifier(criterion=\"gini\", random_state=42, max_depth=3, min_samples_leaf=5)\n",
        "clf_model.fit(Xtrain, Ytrain)\n",
        "#plot_tree(clf_model)\n",
        "y_predict = clf_model.predict(Xtest)\n",
        "decision_Accuracy = accuracy_score(Ytest, y_predict)\n",
        "decision_Precision = precision_score(Ytest, y_predict, average='weighted')\n",
        "decision_Recall = recall_score(Ytest, y_predict, average='weighted')\n",
        "decision_F1 = f1_score(Ytest, y_predict, average='weighted')\n",
        "rs.add_row([\"Decision Tree\", decision_Accuracy, decision_Precision, decision_Recall, decision_F1])\n",
        "print(rs)"
      ],
      "metadata": {
        "id": "Rw_-8FIf2KxW",
        "colab": {
          "base_uri": "https://localhost:8080/",
          "height": 0
        },
        "outputId": "f330c973-c383-472f-8f0e-b9aaba66dd09"
      },
      "execution_count": 64,
      "outputs": [
        {
          "output_type": "stream",
          "name": "stderr",
          "text": [
            "/usr/local/lib/python3.10/dist-packages/sklearn/linear_model/_logistic.py:458: ConvergenceWarning: lbfgs failed to converge (status=1):\n",
            "STOP: TOTAL NO. of ITERATIONS REACHED LIMIT.\n",
            "\n",
            "Increase the number of iterations (max_iter) or scale the data as shown in:\n",
            "    https://scikit-learn.org/stable/modules/preprocessing.html\n",
            "Please also refer to the documentation for alternative solver options:\n",
            "    https://scikit-learn.org/stable/modules/linear_model.html#logistic-regression\n",
            "  n_iter_i = _check_optimize_result(\n"
          ]
        },
        {
          "output_type": "stream",
          "name": "stdout",
          "text": [
            "+---------------------+----------+--------------------+--------+--------------------+\n",
            "|        Model        | Accuracy |     Precision      | Recall |      F1 Score      |\n",
            "+---------------------+----------+--------------------+--------+--------------------+\n",
            "|         SVM         |  0.9425  | 0.9427572317128012 | 0.9425 | 0.9424508195837694 |\n",
            "| Logistic Regression |  0.615   | 0.6129593039691562 | 0.615  | 0.6131894673969207 |\n",
            "|    kNN (Best K=9)   |  0.925   | 0.9268144747464437 | 0.925  | 0.9252001630922513 |\n",
            "|    Decision Tree    |   0.74   | 0.7494964700352109 |  0.74  | 0.7413594465823712 |\n",
            "+---------------------+----------+--------------------+--------+--------------------+\n"
          ]
        }
      ]
    },
    {
      "cell_type": "markdown",
      "source": [
        "#Task 4.2.\n",
        "Predict class label for test set using the best model found in task 4.1"
      ],
      "metadata": {
        "id": "TY35jiORHPJh"
      }
    },
    {
      "cell_type": "code",
      "source": [
        "data_test = read_csv(\"mobile_test.csv\")\n",
        "y_pred = clf.predict(data_test.drop(columns='id'))\n",
        "data_test['price_range'] = y_pred\n",
        "data_test.to_csv(\"mobile_test.csv\", index=False)\n",
        "data_test"
      ],
      "metadata": {
        "id": "z_irQuKyHtdP",
        "colab": {
          "base_uri": "https://localhost:8080/",
          "height": 391
        },
        "outputId": "9a4db981-8aea-4dbf-d276-113b1da6ca91"
      },
      "execution_count": 65,
      "outputs": [
        {
          "output_type": "error",
          "ename": "ValueError",
          "evalue": "The feature names should match those that were passed during fit.\nFeature names unseen at fit time:\n- price_range\n",
          "traceback": [
            "\u001b[0;31m---------------------------------------------------------------------------\u001b[0m",
            "\u001b[0;31mValueError\u001b[0m                                Traceback (most recent call last)",
            "\u001b[0;32m<ipython-input-65-90be93322406>\u001b[0m in \u001b[0;36m<cell line: 2>\u001b[0;34m()\u001b[0m\n\u001b[1;32m      1\u001b[0m \u001b[0mdata_test\u001b[0m \u001b[0;34m=\u001b[0m \u001b[0mread_csv\u001b[0m\u001b[0;34m(\u001b[0m\u001b[0;34m\"mobile_test.csv\"\u001b[0m\u001b[0;34m)\u001b[0m\u001b[0;34m\u001b[0m\u001b[0;34m\u001b[0m\u001b[0m\n\u001b[0;32m----> 2\u001b[0;31m \u001b[0my_pred\u001b[0m \u001b[0;34m=\u001b[0m \u001b[0mclf\u001b[0m\u001b[0;34m.\u001b[0m\u001b[0mpredict\u001b[0m\u001b[0;34m(\u001b[0m\u001b[0mdata_test\u001b[0m\u001b[0;34m.\u001b[0m\u001b[0mdrop\u001b[0m\u001b[0;34m(\u001b[0m\u001b[0mcolumns\u001b[0m\u001b[0;34m=\u001b[0m\u001b[0;34m'id'\u001b[0m\u001b[0;34m)\u001b[0m\u001b[0;34m)\u001b[0m\u001b[0;34m\u001b[0m\u001b[0;34m\u001b[0m\u001b[0m\n\u001b[0m\u001b[1;32m      3\u001b[0m \u001b[0mdata_test\u001b[0m\u001b[0;34m[\u001b[0m\u001b[0;34m'price_range'\u001b[0m\u001b[0;34m]\u001b[0m \u001b[0;34m=\u001b[0m \u001b[0my_pred\u001b[0m\u001b[0;34m\u001b[0m\u001b[0;34m\u001b[0m\u001b[0m\n\u001b[1;32m      4\u001b[0m \u001b[0mdata_test\u001b[0m\u001b[0;34m.\u001b[0m\u001b[0mto_csv\u001b[0m\u001b[0;34m(\u001b[0m\u001b[0;34m\"mobile_test.csv\"\u001b[0m\u001b[0;34m,\u001b[0m \u001b[0mindex\u001b[0m\u001b[0;34m=\u001b[0m\u001b[0;32mFalse\u001b[0m\u001b[0;34m)\u001b[0m\u001b[0;34m\u001b[0m\u001b[0;34m\u001b[0m\u001b[0m\n\u001b[1;32m      5\u001b[0m \u001b[0mdata_test\u001b[0m\u001b[0;34m\u001b[0m\u001b[0;34m\u001b[0m\u001b[0m\n",
            "\u001b[0;32m/usr/local/lib/python3.10/dist-packages/sklearn/svm/_base.py\u001b[0m in \u001b[0;36mpredict\u001b[0;34m(self, X)\u001b[0m\n\u001b[1;32m    818\u001b[0m             \u001b[0my\u001b[0m \u001b[0;34m=\u001b[0m \u001b[0mnp\u001b[0m\u001b[0;34m.\u001b[0m\u001b[0margmax\u001b[0m\u001b[0;34m(\u001b[0m\u001b[0mself\u001b[0m\u001b[0;34m.\u001b[0m\u001b[0mdecision_function\u001b[0m\u001b[0;34m(\u001b[0m\u001b[0mX\u001b[0m\u001b[0;34m)\u001b[0m\u001b[0;34m,\u001b[0m \u001b[0maxis\u001b[0m\u001b[0;34m=\u001b[0m\u001b[0;36m1\u001b[0m\u001b[0;34m)\u001b[0m\u001b[0;34m\u001b[0m\u001b[0;34m\u001b[0m\u001b[0m\n\u001b[1;32m    819\u001b[0m         \u001b[0;32melse\u001b[0m\u001b[0;34m:\u001b[0m\u001b[0;34m\u001b[0m\u001b[0;34m\u001b[0m\u001b[0m\n\u001b[0;32m--> 820\u001b[0;31m             \u001b[0my\u001b[0m \u001b[0;34m=\u001b[0m \u001b[0msuper\u001b[0m\u001b[0;34m(\u001b[0m\u001b[0;34m)\u001b[0m\u001b[0;34m.\u001b[0m\u001b[0mpredict\u001b[0m\u001b[0;34m(\u001b[0m\u001b[0mX\u001b[0m\u001b[0;34m)\u001b[0m\u001b[0;34m\u001b[0m\u001b[0;34m\u001b[0m\u001b[0m\n\u001b[0m\u001b[1;32m    821\u001b[0m         \u001b[0;32mreturn\u001b[0m \u001b[0mself\u001b[0m\u001b[0;34m.\u001b[0m\u001b[0mclasses_\u001b[0m\u001b[0;34m.\u001b[0m\u001b[0mtake\u001b[0m\u001b[0;34m(\u001b[0m\u001b[0mnp\u001b[0m\u001b[0;34m.\u001b[0m\u001b[0masarray\u001b[0m\u001b[0;34m(\u001b[0m\u001b[0my\u001b[0m\u001b[0;34m,\u001b[0m \u001b[0mdtype\u001b[0m\u001b[0;34m=\u001b[0m\u001b[0mnp\u001b[0m\u001b[0;34m.\u001b[0m\u001b[0mintp\u001b[0m\u001b[0;34m)\u001b[0m\u001b[0;34m)\u001b[0m\u001b[0;34m\u001b[0m\u001b[0;34m\u001b[0m\u001b[0m\n\u001b[1;32m    822\u001b[0m \u001b[0;34m\u001b[0m\u001b[0m\n",
            "\u001b[0;32m/usr/local/lib/python3.10/dist-packages/sklearn/svm/_base.py\u001b[0m in \u001b[0;36mpredict\u001b[0;34m(self, X)\u001b[0m\n\u001b[1;32m    431\u001b[0m             \u001b[0mThe\u001b[0m \u001b[0mpredicted\u001b[0m \u001b[0mvalues\u001b[0m\u001b[0;34m.\u001b[0m\u001b[0;34m\u001b[0m\u001b[0;34m\u001b[0m\u001b[0m\n\u001b[1;32m    432\u001b[0m         \"\"\"\n\u001b[0;32m--> 433\u001b[0;31m         \u001b[0mX\u001b[0m \u001b[0;34m=\u001b[0m \u001b[0mself\u001b[0m\u001b[0;34m.\u001b[0m\u001b[0m_validate_for_predict\u001b[0m\u001b[0;34m(\u001b[0m\u001b[0mX\u001b[0m\u001b[0;34m)\u001b[0m\u001b[0;34m\u001b[0m\u001b[0;34m\u001b[0m\u001b[0m\n\u001b[0m\u001b[1;32m    434\u001b[0m         \u001b[0mpredict\u001b[0m \u001b[0;34m=\u001b[0m \u001b[0mself\u001b[0m\u001b[0;34m.\u001b[0m\u001b[0m_sparse_predict\u001b[0m \u001b[0;32mif\u001b[0m \u001b[0mself\u001b[0m\u001b[0;34m.\u001b[0m\u001b[0m_sparse\u001b[0m \u001b[0;32melse\u001b[0m \u001b[0mself\u001b[0m\u001b[0;34m.\u001b[0m\u001b[0m_dense_predict\u001b[0m\u001b[0;34m\u001b[0m\u001b[0;34m\u001b[0m\u001b[0m\n\u001b[1;32m    435\u001b[0m         \u001b[0;32mreturn\u001b[0m \u001b[0mpredict\u001b[0m\u001b[0;34m(\u001b[0m\u001b[0mX\u001b[0m\u001b[0;34m)\u001b[0m\u001b[0;34m\u001b[0m\u001b[0;34m\u001b[0m\u001b[0m\n",
            "\u001b[0;32m/usr/local/lib/python3.10/dist-packages/sklearn/svm/_base.py\u001b[0m in \u001b[0;36m_validate_for_predict\u001b[0;34m(self, X)\u001b[0m\n\u001b[1;32m    611\u001b[0m \u001b[0;34m\u001b[0m\u001b[0m\n\u001b[1;32m    612\u001b[0m         \u001b[0;32mif\u001b[0m \u001b[0;32mnot\u001b[0m \u001b[0mcallable\u001b[0m\u001b[0;34m(\u001b[0m\u001b[0mself\u001b[0m\u001b[0;34m.\u001b[0m\u001b[0mkernel\u001b[0m\u001b[0;34m)\u001b[0m\u001b[0;34m:\u001b[0m\u001b[0;34m\u001b[0m\u001b[0;34m\u001b[0m\u001b[0m\n\u001b[0;32m--> 613\u001b[0;31m             X = self._validate_data(\n\u001b[0m\u001b[1;32m    614\u001b[0m                 \u001b[0mX\u001b[0m\u001b[0;34m,\u001b[0m\u001b[0;34m\u001b[0m\u001b[0;34m\u001b[0m\u001b[0m\n\u001b[1;32m    615\u001b[0m                 \u001b[0maccept_sparse\u001b[0m\u001b[0;34m=\u001b[0m\u001b[0;34m\"csr\"\u001b[0m\u001b[0;34m,\u001b[0m\u001b[0;34m\u001b[0m\u001b[0;34m\u001b[0m\u001b[0m\n",
            "\u001b[0;32m/usr/local/lib/python3.10/dist-packages/sklearn/base.py\u001b[0m in \u001b[0;36m_validate_data\u001b[0;34m(self, X, y, reset, validate_separately, **check_params)\u001b[0m\n\u001b[1;32m    546\u001b[0m             \u001b[0mvalidated\u001b[0m\u001b[0;34m.\u001b[0m\u001b[0;34m\u001b[0m\u001b[0;34m\u001b[0m\u001b[0m\n\u001b[1;32m    547\u001b[0m         \"\"\"\n\u001b[0;32m--> 548\u001b[0;31m         \u001b[0mself\u001b[0m\u001b[0;34m.\u001b[0m\u001b[0m_check_feature_names\u001b[0m\u001b[0;34m(\u001b[0m\u001b[0mX\u001b[0m\u001b[0;34m,\u001b[0m \u001b[0mreset\u001b[0m\u001b[0;34m=\u001b[0m\u001b[0mreset\u001b[0m\u001b[0;34m)\u001b[0m\u001b[0;34m\u001b[0m\u001b[0;34m\u001b[0m\u001b[0m\n\u001b[0m\u001b[1;32m    549\u001b[0m \u001b[0;34m\u001b[0m\u001b[0m\n\u001b[1;32m    550\u001b[0m         \u001b[0;32mif\u001b[0m \u001b[0my\u001b[0m \u001b[0;32mis\u001b[0m \u001b[0;32mNone\u001b[0m \u001b[0;32mand\u001b[0m \u001b[0mself\u001b[0m\u001b[0;34m.\u001b[0m\u001b[0m_get_tags\u001b[0m\u001b[0;34m(\u001b[0m\u001b[0;34m)\u001b[0m\u001b[0;34m[\u001b[0m\u001b[0;34m\"requires_y\"\u001b[0m\u001b[0;34m]\u001b[0m\u001b[0;34m:\u001b[0m\u001b[0;34m\u001b[0m\u001b[0;34m\u001b[0m\u001b[0m\n",
            "\u001b[0;32m/usr/local/lib/python3.10/dist-packages/sklearn/base.py\u001b[0m in \u001b[0;36m_check_feature_names\u001b[0;34m(self, X, reset)\u001b[0m\n\u001b[1;32m    479\u001b[0m                 )\n\u001b[1;32m    480\u001b[0m \u001b[0;34m\u001b[0m\u001b[0m\n\u001b[0;32m--> 481\u001b[0;31m             \u001b[0;32mraise\u001b[0m \u001b[0mValueError\u001b[0m\u001b[0;34m(\u001b[0m\u001b[0mmessage\u001b[0m\u001b[0;34m)\u001b[0m\u001b[0;34m\u001b[0m\u001b[0;34m\u001b[0m\u001b[0m\n\u001b[0m\u001b[1;32m    482\u001b[0m \u001b[0;34m\u001b[0m\u001b[0m\n\u001b[1;32m    483\u001b[0m     def _validate_data(\n",
            "\u001b[0;31mValueError\u001b[0m: The feature names should match those that were passed during fit.\nFeature names unseen at fit time:\n- price_range\n"
          ]
        }
      ]
    },
    {
      "cell_type": "markdown",
      "source": [
        "#Task 5.\n",
        "\n",
        "*   5.1.\tPerform SVM algorithm to **spambase dataset** using **linear kernel**.\n",
        "*   5.2.\tCompare the obtained results in task 5.1 with **SVM** using other kernels (**Polynomial Kernel, Sigmoid Kernel, Radial Basis Function Kernel**). Some metrics could be used: **accuracy, precision, recall, f1** measures"
      ],
      "metadata": {
        "id": "7SCMLfMfyWPU"
      }
    },
    {
      "cell_type": "code",
      "source": [
        "mails = read_csv(\"spambase.csv\")\n",
        "rs = PrettyTable([\"Model\", \"Accuracy\", \"Precision\", \"Recall\", \"F1 Score\"])\n",
        "Xtrain, Xtest, Ytrain, Ytest = train_test_split(mails.drop(columns=['class']), mails['class'], test_size=0.2, random_state=1)\n",
        "\n",
        "# SVM\n",
        "clf = svm.SVC(kernel='linear')\n",
        "clf.fit(Xtrain, Ytrain)\n",
        "y_pred = clf.predict(Xtest)\n",
        "svm_accuracy = accuracy_score(Ytest, y_pred)\n",
        "svm_precision = precision_score(Ytest, y_pred, average='weighted')\n",
        "svm_recall = recall_score(Ytest, y_pred, average='weighted')\n",
        "svm_f1 = f1_score(Ytest, y_pred, average='weighted')\n",
        "rs.add_row([\"SVM Algorithm\", svm_accuracy, svm_precision, svm_recall, svm_f1])\n",
        "\n",
        "# Logistic Regression\n",
        "\n",
        "logistic = LogisticRegression(random_state=1)\n",
        "logistic.fit(Xtrain, Ytrain)\n",
        "Ypred = logistic.predict(Xtest)\n",
        "logisticAccuracy = accuracy_score(Ytest, Ypred)\n",
        "logisticPrecision = precision_score(Ytest, Ypred, average='weighted')\n",
        "logisticRecall = recall_score(Ytest, Ypred, average='weighted')\n",
        "logisticF1 = f1_score(Ytest, Ypred, average='weighted')\n",
        "rs.add_row([\"Logistic Regression\", logisticAccuracy, logisticPrecision, logisticRecall, logisticF1])\n",
        "# print(\"Confusion matrix to evaluate the accuracy of a classification:\\n\", ConfusionMatrixDisplay.from_predictions(Ytest, Ypred))\n",
        "\n",
        "# kNN Algorithm\n",
        "kNN_Accuracy = []\n",
        "kNN_Precision = []\n",
        "kNN_Recall = []\n",
        "kNN_F1 = []\n",
        "k_values = range(3, 30, 2)\n",
        "\n",
        "for k in k_values:\n",
        "    kNN = KNeighborsClassifier(n_neighbors=k)\n",
        "    kNN.fit(Xtrain, Ytrain)\n",
        "    YPred = kNN.predict(Xtest)\n",
        "\n",
        "    kNN_Accuracy.append(accuracy_score(Ytest, YPred))\n",
        "    kNN_Precision.append(precision_score(Ytest, YPred, average='weighted'))\n",
        "    kNN_Recall.append(recall_score(Ytest, YPred, average='weighted'))\n",
        "    kNN_F1.append(f1_score(Ytest, YPred, average='weighted'))\n",
        "\n",
        "bestK = k_values[kNN_F1.index(max(kNN_F1))]\n",
        "bestK_Accuracy = kNN_Accuracy[kNN_F1.index(max(kNN_F1))]\n",
        "bestK_Precision = kNN_Precision[kNN_F1.index(max(kNN_F1))]\n",
        "bestK_Recall = kNN_Recall[kNN_F1.index(max(kNN_F1))]\n",
        "bestK_F1 = max(kNN_F1)\n",
        "rs.add_row([\"kNN (Best K={})\".format(bestK), bestK_Accuracy, bestK_Precision, bestK_Recall, bestK_F1])\n",
        "\n",
        "# Decision Tree\n",
        "clf_model = DecisionTreeClassifier(criterion=\"gini\", random_state=42, max_depth=3, min_samples_leaf=5)\n",
        "clf_model.fit(Xtrain, Ytrain)\n",
        "plot_tree(clf_model)\n",
        "y_predict = clf_model.predict(Xtest)\n",
        "decision_Accuracy = accuracy_score(Ytest, y_predict)\n",
        "decision_Precision = precision_score(Ytest, y_predict, average='weighted')\n",
        "decision_Recall = recall_score(Ytest, y_predict, average='weighted')\n",
        "decision_F1 = f1_score(Ytest, y_predict, average='weighted')\n",
        "rs.add_row([\"Decision Tree\", decision_Accuracy, decision_Precision, decision_Recall, decision_F1])\n",
        "\n",
        "# Logistic Regression\n",
        "print(\"Confusion matrix to evaluate the accuracy of a classification:\\n\", ConfusionMatrixDisplay.from_predictions(Ytest, Ypred))\n",
        "\n",
        "# Compare the performance of selected classification algorithms (Decision Tree, kNN, and Logistic Regression) to spam detection.\n",
        "print(\"Performance Comparison of kNN (Best K) & Logistic Regression & Decision Tree:\")\n",
        "print(rs)"
      ],
      "metadata": {
        "id": "CU4u3CvDyfxg"
      },
      "execution_count": null,
      "outputs": []
    },
    {
      "cell_type": "markdown",
      "source": [
        "#Finally,\n",
        "Save a copy in your Github. Remember renaming the notebook."
      ],
      "metadata": {
        "id": "Ok7RGkea_b7n"
      }
    }
  ]
}